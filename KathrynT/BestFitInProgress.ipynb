{
 "metadata": {
  "name": "BestFitInProgress"
 }, 
 "nbformat": 2, 
 "worksheets": [
  {
   "cells": [
    {
     "cell_type": "code", 
     "collapsed": true, 
     "input": [
      "###########################################", 
      "#", 
      "# Class defining a SpacePoint", 
      "#", 
      "# W.H. Kelley", 
      "# 19-May-2012", 
      "#", 
      "###########################################", 
      "", 
      "#Function Accepts File Name and Event Number, Outputs Event Title and Data of called event", 
      "def dataRead(file_name, eventNum):", 
      "    import string", 
      "    file = open(file_name)", 
      "    cc = 0 #not needed, but hey, if it aint broke...", 
      "    while cc<1:", 
      "        line = file.readline()", 
      "        if not line:", 
      "            break", 
      "        cc=cc+1", 
      "    for c in string.punctuation:", 
      "        line = line.replace(c,\"\")", 
      "    line = string.lower(line)", 
      "    bb = line.rsplit() # bb is the Title line", 
      "     # skip to the eventNum asked for", 
      "    while int(bb[1])!=eventNum:", 
      "        for m in range(int(bb[3])+1):", 
      "            line = file.readline()", 
      "            if not line:", 
      "                break", 
      "        if not line:", 
      "            break", 
      "        for symbols in string.punctuation:", 
      "            line = line.replace(symbols,\"\")", 
      "        line = string.lower(line)", 
      "        bb = line.rsplit()", 
      "        ", 
      "    #bb is the first line seperated into a tuple, bb(3) is the next how many points in the set", 
      "    M = int(bb[3])", 
      "    #M = 3", 
      "    N = 5", 
      "    DD = [[0]*N]*M", 
      "    w = ''", 
      "    for m in range(M):", 
      "        line = file.readline()", 
      "        if not line:", 
      "            break", 
      "        for c in string.punctuation:", 
      "            line = line.replace(c,\"\")", 
      "        line = string.lower(line)", 
      "        w = w+line", 
      "    r = w.rsplit()", 
      "    Volume=[]", 
      "    Row=[]", 
      "    Column=[]", 
      "    Bucket=[]", 
      "    ADC=[]", 
      "    for m in range(M):", 
      "        Volume.append(int(r[m*N]))", 
      "        Row.append(int(r[m*N+1]))", 
      "        Column.append(int(r[m*N+2]))", 
      "        Bucket.append(int(r[m*N+3]))", 
      "        ADC.append(int(r[m*N+4]))", 
      "    #bb is the title sequence info", 
      "    ", 
      "    return bb, Volume, Row, Column, Bucket, ADC", 
      "", 
      "#######################################", 
      "# outputs hex and cartesian coordinates of single data event", 
      "#", 
      "# W.H. Kelley", 
      "# 19-May-2012", 
      "#######################################", 
      "def ReadHexAndCart(file_name, eventNum):", 
      "    [Title, Volume, Row, Column, Bucket, ADC] = dataRead(file_name, eventNum)", 
      "    M = int(Title[3])", 
      "    x = []", 
      "    y = []", 
      "    z = []", 
      "    for m in range(M):", 
      "        point = MapHexToCart(Volume[m], Row[m], Column[m], Bucket[m])", 
      "        x.append(point[0])", 
      "        y.append(point[1])", 
      "        z.append(point[2])", 
      "    return Title, Volume, Row, Column, Bucket, ADC, x, y , z", 
      "#######################################", 
      "# EDITED FROM ORIGINAL PURPOSE BY WADE", 
      "# ", 
      "# Niffte geometry methods to convert", 
      "# voxel to space point in cm", 
      "#", 
      "# J.L. Klay", 
      "# 14-May-2012", 
      "#", 
      "#######################################", 
      "import math", 
      "#import voxel as vox", 
      "#import SpacePoint as sp", 
      "", 
      "def MapHexToCart(volume, column, row, bucket):", 
      "    ", 
      "    \"\"\"Map the indices to x,y,z coordinates for", 
      "    the NIFFTE detector geometry.", 
      "    \"\"\"", 
      "    fA = 0.1 # (cm) parameter for hexagonal geometry", 
      "    fB = 2.0 * fA / math.sqrt(3.0) # (cm) parameter for hexagonal geometry", 
      "    fCenterX = 47.0 # (cm) offset to center of volume", 
      "    fCenterY = 61.0 # (cm) offset to center of volume", 
      "        # In this (r,c) coordinate system, the Hex at (0,1) is", 
      "    # down and to the right of (0,0).", 
      "    x = column * 1.5 * fB", 
      "    y = -row * 2.0 * fA + math.fabs((column+1) % 2 * fA)", 
      "", 
      "    # Shift the row/col coordinate system so that x=y=0.0", 
      "    # is at the center of the row/col field", 
      "    x -= fCenterX * fB;", 
      "    y += fCenterY * fA;", 
      "", 
      "    # Now work on z coordinate", 
      "    fDriftDistance = 5.4 # (cm) size of drift volume", 
      "    fClockRate = 50.0 # MHz", 
      "    fDriftSpeed = 5.2 # (cm/us) default value", 
      "    fNumberOfBuckets = int(fDriftDistance * fClockRate / fDriftSpeed) # number of buckets per volume", 
      "    z = (fDriftDistance - float(bucket) + 0.5) * fDriftDistance/fNumberOfBuckets", 
      "", 
      "    if (volume == 0):", 
      "        z = -z", 
      "    if (volume == 1):", 
      "       x = -x", 
      "        ", 
      "    return x,y,z", 
      "    "
     ], 
     "language": "python", 
     "outputs": [], 
     "prompt_number": 1628
    }, 
    {
     "cell_type": "code", 
     "collapsed": false, 
     "input": [
      "[Title, Volume, Row, Column, Bucket, ADC, x, y , z] = ReadHexAndCart('Data.txt',35)", 
      "print Title"
     ], 
     "language": "python", 
     "outputs": [
      {
       "output_type": "stream", 
       "stream": "stdout", 
       "text": [
        "[&apos;event&apos;, &apos;35&apos;, &apos;ndigits&apos;, &apos;79&apos;]"
       ]
      }
     ], 
     "prompt_number": 1629
    }, 
    {
     "cell_type": "code", 
     "collapsed": false, 
     "input": [
      "#Creates the graph", 
      "#Kathryn Tzekov", 
      "", 
      "import numpy as np", 
      "from mpl_toolkits.mplot3d import Axes3D", 
      "import matplotlib.pyplot as plt", 
      "", 
      "#def randrange(n, vmin, vmax):", 
      "#    return (vmax-vmin)*np.random.rand(n) + vmin", 
      "", 
      "#x = [1, 2, 5]", 
      "#y = [4, 11, 7]", 
      "#z = [5, 4, 3]", 
      "", 
      "fig = plt.figure()", 
      "ax = fig.add_subplot(111, projection='3d')", 
      "", 
      "#For connected points:", 
      "#plt.plot(x,y,z)", 
      "", 
      "for c, m, ch1, ch2 in [('r', 'o', min(ADC), max(ADC)/2), ('b', '^', max(ADC)/2, min(ADC))]:", 
      "    xs = x", 
      "    ys = y", 
      "    zs = z", 
      "    ax.scatter(xs,ys,zs, c=c, marker=m)", 
      "", 
      "", 
      "ax.set_xlabel('X Axis')", 
      "ax.set_ylabel('Y Axis')", 
      "ax.set_zlabel('Z Axis')", 
      "", 
      "plt.show()"
     ], 
     "language": "python", 
     "outputs": [
      {
       "output_type": "pyout", 
       "prompt_number": 1630, 
       "text": [
        "&lt;matplotlib.text.Text at 0x118f42ec&gt;"
       ]
      }
     ], 
     "prompt_number": 1630
    }, 
    {
     "cell_type": "code", 
     "collapsed": false, 
     "input": [
      "", 
      "    "
     ], 
     "language": "python", 
     "outputs": [], 
     "prompt_number": 1630
    }, 
    {
     "cell_type": "code", 
     "collapsed": false, 
     "input": [], 
     "language": "python", 
     "outputs": [], 
     "prompt_number": 1630
    }, 
    {
     "cell_type": "code", 
     "collapsed": false, 
     "input": [
      "M"
     ], 
     "language": "python", 
     "outputs": [
      {
       "output_type": "pyout", 
       "prompt_number": 1631, 
       "text": [
        "array([[0, 0, 0],", 
        "       [0, 0, 0],", 
        "       [0, 0, 0]])"
       ]
      }
     ], 
     "prompt_number": 1631
    }, 
    {
     "cell_type": "code", 
     "collapsed": false, 
     "input": [
      "from numpy import*"
     ], 
     "language": "python", 
     "outputs": [], 
     "prompt_number": 1632
    }, 
    {
     "cell_type": "code", 
     "collapsed": true, 
     "input": [
      "M = array(M)"
     ], 
     "language": "python", 
     "outputs": [], 
     "prompt_number": 1633
    }, 
    {
     "cell_type": "code", 
     "collapsed": false, 
     "input": [
      "M"
     ], 
     "language": "python", 
     "outputs": [
      {
       "output_type": "pyout", 
       "prompt_number": 1634, 
       "text": [
        "array([[0, 0, 0],", 
        "       [0, 0, 0],", 
        "       [0, 0, 0]])"
       ]
      }
     ], 
     "prompt_number": 1634
    }, 
    {
     "cell_type": "code", 
     "collapsed": false, 
     "input": [
      "Data = (x,y,z)", 
      "Data = array(Data)", 
      "x = array(x)", 
      "y = array(y)", 
      "z = array(z)"
     ], 
     "language": "python", 
     "outputs": [], 
     "prompt_number": 1635
    }, 
    {
     "cell_type": "code", 
     "collapsed": false, 
     "input": [
      "type(x)"
     ], 
     "language": "python", 
     "outputs": [
      {
       "output_type": "pyout", 
       "prompt_number": 1636, 
       "text": [
        "numpy.ndarray"
       ]
      }
     ], 
     "prompt_number": 1636
    }, 
    {
     "cell_type": "code", 
     "collapsed": false, 
     "input": [
      "#A Best fit attempt using SVD", 
      "", 
      "#x = np.mgrid[-2:5:120j]", 
      "#y = np.mgrid[1:9:120j]", 
      "#z = np.mgrid[-5:3:120j]", 
      "", 
      "#Data = concatenate((x[:, newaxis], ", 
      "#                    y[:, newaxis], ", 
      "#                    z[:, newaxis]), axis = 0)", 
      "Data = array(Data)", 
      "", 
      "datamean = Data.mean()", 
      "uu, dd, vv = linalg.svd(Data-datamean)", 
      "linepts = vv[0] * mgrid[-9:9][:, newaxis]", 
      "linepts += datamean", 
      "", 
      "import matplotlib.pyplot as plt", 
      "import mpl_toolkits.mplot3d as m3d", 
      "", 
      "#ax = m3d.Axes3D(plt.figure())", 
      "#ax.scatter3D(x.T, y.T, z.T)", 
      "#ax.plot3D(*linepts.T)", 
      "#plt.show()", 
      "", 
      "#fig = plt.figure()", 
      "#ax = fig.add_subplot(111, projection='3d')", 
      "", 
      "#For connected points:", 
      "#plt.plot(x,y,z)", 
      "", 
      "#for c, m in [('r', 'o')]:", 
      "#    xs = x", 
      "#    ys = y", 
      "#    zs = z", 
      "#    ax.scatter(Data,zs, c=c, marker=m)"
     ], 
     "language": "python", 
     "outputs": [], 
     "prompt_number": 1637
    }, 
    {
     "cell_type": "code", 
     "collapsed": false, 
     "input": [
      "#Writing 3d Linear Regression - Unfinished", 
      "", 
      "x = array(x)", 
      "y = array(y)", 
      "z = array(z)", 
      "", 
      "Xm = 0; Ym = 0 ; Zm = 0; Xk = 0; Yk = 0; Zk = 0; ", 
      "XYk = 0; XZk = 0; YZk = 0;", 
      "", 
      "size = len(x)", 
      "", 
      "#for k in range(1, size):", 
      "#    Xm = Xm + X(k);", 
      "#    Ym = Ym + Y(k);", 
      "#   Zm = Zm + Z(k);", 
      "", 
      "Xm = sum(x)/size", 
      "Ym = sum(y)/size", 
      "Zm = sum(z)/size", 
      "", 
      "Sxx = -Xm*Xm + sum(x*x)/size", 
      "Sxy = -Xm*Ym + sum(x*y)/size", 
      "Syy = -Ym*Ym + sum(y*y)/size", 
      "Sxz = -Xm*Zm + sum(x*z)/size", 
      "Szz = -Zm*Zm + sum(z*z)/size", 
      "Syz = -Ym*Zm + sum(y*z)/size", 
      "", 
      "theta = (1.0/2)*arctan((2*Sxy)/(Sxx-Syy))", 
      "", 
      "K11 = (Syy+Szz)*cos(theta)*cos(theta)+(Sxx+Szz)*sin(theta)*sin(theta)-2*Sxy*cos(theta)*sin(theta)", 
      "K22 = (Syy+Szz)*sin(theta)*sin(theta)+(Sxx+Szz)*cos(theta)*cos(theta)+2*Sxy*cos(theta)*sin(theta)", 
      "K12 = -Sxy*(cos(theta)*cos(theta)-sin(theta)*sin(theta))+(Sxx-Syy)*cos(theta)*sin(theta)", 
      "K10 = Sxz*cos(theta)+Syz*sin(theta)", 
      "K01 = -Sxz*sin(theta)+Syz*cos(theta)", 
      "K00 = Sxx+Syy", 
      "", 
      "c2 = -K00 - K11 - K22", 
      "c1 = K00*K11 + K00*K22 + K11*K22 - K01*K01 - K10*K10", 
      "c0 = K01*K01*K11 + K10*K10*K22 - K00*K11*K22", 
      "", 
      "p = c1-(1.0/3)*c2*c2", 
      "q = (2.0/27)*c2*c2*c2-(1.0/3)*c1*c2+c0", 
      "R = (1.0/4)*q*q+(1.0/27)*p*p*p", 
      "", 
      "if R>0:", 
      "    deltamsqr = (-1.0/3)*c2 + ( (-1.0/2)*q + R**(1.0/2) )**(1.0/3) + ( (-1.0/2)*q - R**(1.0/2) )**(1.0/3)", 
      "elif R<0:", 
      "    rho = sqrt((-1.0/27)*p*p*p)", 
      "    phi = arccos(-q/(2.0*rho))", 
      "    deltamsqr = [(-1.0/3)*c2 + 2.0*rho**(1.0/3.) * cos((1.0/3)*phi), ", 
      "                 (-1.0/3)*c2 + 2.0*rho**(1.0/3)*cos( (1.0/3)*(phi+2*pi) ), ", 
      "                 (-1.0/3)*c2 + 2.0*(rho**(1.0/3))*cos( (1.0/3)*(phi+4*pi) ) ]", 
      "    deltamsqr = min(deltamsqr)", 
      "    ", 
      "a = (-K10/(K11-deltamsqr))*cos(theta) + (K01/(K22-deltamsqr))*sin(theta)", 
      "b = (-K10/(K11-deltamsqr))*sin(theta) + (-K01/(K22-deltamsqr))*cos(theta)", 
      "u = (1.0/(1+a*a+b*b)) * ((1+b*b)*Xm-a*b*Ym + a*Zm)", 
      "v = (1.0/(1+a*a+b*b)) * (-a*b*Xm + (1+a*a)*Ym+b*Zm)", 
      "w = (1.0/(1+a*a+b*b)) * (a*Xm+b*Ym+(a*a+b*b)*Zm)", 
      "", 
      ""
     ], 
     "language": "python", 
     "outputs": [], 
     "prompt_number": 1638
    }, 
    {
     "cell_type": "code", 
     "collapsed": false, 
     "input": [
      "import numpy as np", 
      "from mpl_toolkits.mplot3d import Axes3D", 
      "import matplotlib.pyplot as plt", 
      "", 
      "#For connected points:", 
      "#plt.plot(x,y,z)", 
      "", 
      "for c, m, ch1, ch2 in [('r', 'o', min(ADC), max(ADC)/2), ('b', '^', max(ADC)/2, min(ADC))]:", 
      "    xs = x", 
      "    ys = y", 
      "    zs = z", 
      "    ax.scatter(xs,ys,zs, c=c, marker=m)", 
      "", 
      "ax.set_xlabel('X Axis')", 
      "ax.set_ylabel('Y Axis')", 
      "ax.set_zlabel('Z Axis')", 
      "", 
      "plt.show()"
     ], 
     "language": "python", 
     "outputs": [], 
     "prompt_number": 1639
    }, 
    {
     "cell_type": "code", 
     "collapsed": true, 
     "input": [], 
     "language": "python", 
     "outputs": [], 
     "prompt_number": 1639
    }
   ]
  }
 ]
}