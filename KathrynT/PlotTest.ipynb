{
 "metadata": {
  "name": "PlotTest"
 }, 
 "nbformat": 2, 
 "worksheets": [
  {
   "cells": [
    {
     "cell_type": "code", 
     "collapsed": false, 
     "input": [
      "#A simple test plot using a previously determined set of x, y, and z coordinates", 
      "", 
      "import numpy as np", 
      "from mpl_toolkits.mplot3d import Axes3D", 
      "import matplotlib.pyplot as plt", 
      "", 
      "x = [1, 2, 5]", 
      "y = [4, 11, 7]", 
      "z = [5, 4, 3]", 
      "", 
      "fig = plt.figure()", 
      "ax = fig.add_subplot(111, projection='3d')", 
      "", 
      "#For connected points do the following (remove the for loop):", 
      "#plt.plot(x,y,z)", 
      "", 
      "for c, m in [('r', 'o')]:", 
      "    xs = x", 
      "    ys = y", 
      "    zs = z", 
      "    ax.scatter(xs,ys,zs, c=c, marker=m)", 
      "", 
      "", 
      "ax.set_xlabel('X Label')", 
      "ax.set_ylabel('Y Label')", 
      "ax.set_zlabel('Z Label')", 
      "", 
      "plt.show()"
     ], 
     "language": "python", 
     "outputs": [], 
     "prompt_number": 5
    }, 
    {
     "cell_type": "code", 
     "collapsed": true, 
     "input": [], 
     "language": "python", 
     "outputs": [], 
     "prompt_number": "&nbsp;"
    }
   ]
  }
 ]
}