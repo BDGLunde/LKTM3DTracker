{
 "metadata": {
  "name": "Data_Read_First_Event"
 }, 
 "nbformat": 2, 
 "worksheets": [
  {
   "cells": [
    {
     "cell_type": "code", 
     "collapsed": false, 
     "input": [
      "", 
      "", 
      "def dataRead(file_name):", 
      "    import string", 
      "    file = open(file_name)", 
      "    cc = 0", 
      "    while cc<1:", 
      "        line = file.readline()", 
      "        if not line:", 
      "            break", 
      "        cc=cc+1", 
      "    for c in string.punctuation:", 
      "        line = line.replace(c,\"\")", 
      "    line = string.lower(line)", 
      "    bb = line.rsplit()", 
      "    #bb is the first line seperated into a tuple, bb(3) is the next how many points in the set", 
      "    M = int(bb[3])", 
      "    #M = 3", 
      "    N = 5", 
      "    DD = [[0]*N]*M", 
      "    w = ''", 
      "    for m in range(M):", 
      "        line = file.readline()", 
      "        if not line:", 
      "            break", 
      "        for c in string.punctuation:", 
      "            line = line.replace(c,\"\")", 
      "        line = string.lower(line)", 
      "        w = w+line", 
      "    r = w.rsplit()", 
      "    Volume=[]", 
      "    Row=[]", 
      "    Column=[]", 
      "    Bucket=[]", 
      "    ADC=[]", 
      "", 
      "    for m in range(M):", 
      "        Volume.append(int(r[m*N]))", 
      "        Row.append(int(r[m*N+1]))", 
      "        Column.append(int(r[m*N+2]))", 
      "        Bucket.append(int(r[m*N+3]))", 
      "        ADC.append(int(r[m*N+4]))", 
      "", 
      "    #bb is the title sequence info", 
      "    return bb, Volume, Row, Column, Bucket, ADC"
     ], 
     "language": "python", 
     "outputs": [], 
     "prompt_number": 271
    }, 
    {
     "cell_type": "code", 
     "collapsed": false, 
     "input": [
      "#Reads first event, edit to read full file", 
      "a = dataRead('Data_Sample.txt')", 
      "print a", 
      ""
     ], 
     "language": "python", 
     "outputs": [
      {
       "output_type": "stream", 
       "stream": "stdout", 
       "text": [
        "([&apos;event&apos;, &apos;0&apos;, &apos;ndigits&apos;, &apos;98&apos;], [1, 1, 1, 1, 1, 1, 1, 1, 1, 1, 1, 1, 1, 1, 1, 1, 1, 1, 1, 1, 1, 1, 1, 1, 1, 1, 1, 1, 1, 1, 1, 1, 1, 1, 1, 1, 1, 1, 1, 1, 1, 1, 1, 1, 1, 1, 1, 1, 1, 1, 1, 1, 1, 1, 1, 1, 1, 1, 1, 1, 1, 1, 1, 1, 1, 1, 1, 1, 1, 1, 1, 1, 1, 1, 1, 1, 1, 1, 1, 1, 1, 1, 1, 1, 1, 1, 1, 1, 1, 1, 1, 1, 1, 1, 1, 1, 1, 1], [30, 30, 30, 30, 30, 30, 30, 30, 30, 30, 31, 31, 31, 31, 31, 31, 31, 31, 31, 31, 31, 31, 31, 31, 31, 31, 31, 32, 32, 32, 32, 32, 32, 32, 32, 32, 32, 32, 32, 32, 32, 32, 32, 32, 32, 32, 33, 33, 33, 33, 33, 33, 33, 33, 33, 33, 33, 33, 33, 33, 33, 33, 33, 33, 33, 33, 33, 33, 33, 33, 33, 34, 34, 34, 34, 34, 34, 34, 34, 34, 34, 34, 35, 35, 35, 35, 35, 35, 35, 35, 35, 35, 35, 35, 35, 35, 35, 36], [38, 38, 38, 39, 39, 39, 40, 40, 40, 41, 37, 37, 37, 38, 38, 38, 38, 38, 38, 38, 39, 39, 39, 39, 40, 40, 40, 35, 35, 35, 36, 36, 36, 37, 37, 37, 37, 38, 38, 38, 38, 38, 39, 39, 39, 39, 34, 34, 34, 34, 34, 34, 35, 35, 35, 35, 35, 35, 35, 36, 36, 36, 36, 36, 36, 37, 37, 37, 37, 37, 37, 33, 33, 33, 33, 33, 34, 34, 34, 36, 36, 36, 31, 31, 31, 31, 32, 32, 32, 32, 32, 32, 32, 33, 33, 33, 33, 30], [22, 23, 24, 21, 22, 23, 20, 21, 22, 21, 26, 27, 28, 22, 23, 24, 25, 26, 27, 28, 22, 23, 24, 25, 21, 22, 23, 31, 32, 33, 28, 29, 30, 26, 27, 28, 29, 24, 25, 26, 27, 28, 24, 25, 26, 49, 33, 34, 35, 36, 37, 38, 30, 31, 32, 33, 34, 35, 36, 28, 29, 30, 31, 32, 33, 26, 27, 28, 29, 30, 31, 36, 37, 38, 39, 40, 35, 36, 37, 31, 32, 33, 41, 42, 43, 44, 37, 38, 39, 40, 41, 42, 43, 37, 38, 39, 40, 45], [9, 10, 11, 35, 40, 44, 31, 30, 31, 18, 7, 7, 8, 10, 11, 12, 11, 9, 8, 6, 32, 33, 31, 24, 15, 13, 14, 8, 7, 7, 8, 7, 9, 23, 28, 32, 31, 22, 26, 27, 24, 18, 7, 8, 10, 1, 6, 6, 5, 5, 4, 4, 11, 14, 16, 18, 16, 13, 10, 13, 17, 20, 21, 19, 18, 5, 5, 5, 6, 6, 6, 10, 13, 17, 19, 17, 27, 26, 28, 7, 7, 7, 15, 18, 19, 18, 7, 9, 11, 14, 14, 13, 11, 7, 6, 6, 7, 35])"
       ]
      }
     ], 
     "prompt_number": 272
    }, 
    {
     "cell_type": "code", 
     "collapsed": false, 
     "input": [], 
     "language": "python", 
     "outputs": [], 
     "prompt_number": 202
    }, 
    {
     "cell_type": "code", 
     "collapsed": true, 
     "input": [], 
     "language": "python", 
     "outputs": [], 
     "prompt_number": "&nbsp;"
    }
   ]
  }
 ]
}