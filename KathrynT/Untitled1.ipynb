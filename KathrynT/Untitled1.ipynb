{
 "metadata": {
  "name": "Untitled1"
 }, 
 "nbformat": 2, 
 "worksheets": []
}