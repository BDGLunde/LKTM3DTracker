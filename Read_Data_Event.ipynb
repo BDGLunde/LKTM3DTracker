{
 "metadata": {
  "name": "Read_Data_Event"
 }, 
 "nbformat": 2, 
 "worksheets": [
  {
   "cells": [
    {
     "cell_type": "code", 
     "collapsed": false, 
     "input": [
      "#Function Accepts File Name and Event Number, Outputs Event Title and Data of called event", 
      "def dataRead(file_name, eventNum):", 
      "    import string", 
      "    file = open(file_name)", 
      "    cc = 0 #not needed, but hey, if it aint broke...", 
      "    while cc<1:", 
      "        line = file.readline()", 
      "        if not line:", 
      "            break", 
      "        cc=cc+1", 
      "    for c in string.punctuation:", 
      "        line = line.replace(c,\"\")", 
      "    line = string.lower(line)", 
      "    bb = line.rsplit() # bb is the Title line", 
      "    ", 
      "    # skip to the eventNum asked for", 
      "    while int(bb[1])!=eventNum:", 
      "        for m in range(int(bb[3])+1):", 
      "            line = file.readline()", 
      "            if not line:", 
      "                break", 
      "        if not line:", 
      "            break", 
      "        for symbols in string.punctuation:", 
      "            line = line.replace(symbols,\"\")", 
      "        line = string.lower(line)", 
      "        bb = line.rsplit()", 
      "        ", 
      "    ", 
      "    #bb is the first line seperated into a tuple, bb(3) is the next how many points in the set", 
      "    M = int(bb[3])", 
      "    #M = 3", 
      "    N = 5", 
      "    DD = [[0]*N]*M", 
      "    w = ''", 
      "    for m in range(M):", 
      "        line = file.readline()", 
      "        if not line:", 
      "            break", 
      "        for c in string.punctuation:", 
      "            line = line.replace(c,\"\")", 
      "        line = string.lower(line)", 
      "        w = w+line", 
      "    r = w.rsplit()", 
      "    Volume=[]", 
      "    Row=[]", 
      "    Column=[]", 
      "    Bucket=[]", 
      "    ADC=[]", 
      "", 
      "    for m in range(M):", 
      "        Volume.append(int(r[m*N]))", 
      "        Row.append(int(r[m*N+1]))", 
      "        Column.append(int(r[m*N+2]))", 
      "        Bucket.append(int(r[m*N+3]))", 
      "        ADC.append(int(r[m*N+4]))", 
      "", 
      "    #bb is the title sequence info", 
      "    return bb, Volume, Row, Column, Bucket, ADC"
     ], 
     "language": "python", 
     "outputs": [], 
     "prompt_number": 17
    }, 
    {
     "cell_type": "code", 
     "collapsed": false, 
     "input": [
      "#Reads first event, edit to read full file", 
      "[Title, Volume, Row, Column, Bucket, ADC] = dataRead('Data_Sample.txt',3)"
     ], 
     "language": "python", 
     "outputs": [], 
     "prompt_number": 19
    }, 
    {
     "cell_type": "code", 
     "collapsed": false, 
     "input": [], 
     "language": "python", 
     "outputs": [], 
     "prompt_number": 10
    }, 
    {
     "cell_type": "code", 
     "collapsed": true, 
     "input": [], 
     "language": "python", 
     "outputs": [], 
     "prompt_number": "&nbsp;"
    }
   ]
  }
 ]
}